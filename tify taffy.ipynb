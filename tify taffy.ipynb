{
 "cells": [
  {
   "cell_type": "code",
   "execution_count": 1,
   "id": "f5985897",
   "metadata": {},
   "outputs": [],
   "source": [
    "import os, glob, shutil"
   ]
  },
  {
   "cell_type": "code",
   "execution_count": 16,
   "id": "b392d416",
   "metadata": {
    "scrolled": false
   },
   "outputs": [],
   "source": [
    "path = '/media/sam/MS_Fast/MSB_All/subdivision 2000/'\n",
    "for file in os.listdir(path):\n",
    " \n",
    "    shutil.move(os.path.join(path,file), os.path.join(path,file[:-4]))"
   ]
  }
 ],
 "metadata": {
  "kernelspec": {
   "display_name": "Python 3 (ipykernel)",
   "language": "python",
   "name": "python3"
  },
  "language_info": {
   "codemirror_mode": {
    "name": "ipython",
    "version": 3
   },
   "file_extension": ".py",
   "mimetype": "text/x-python",
   "name": "python",
   "nbconvert_exporter": "python",
   "pygments_lexer": "ipython3",
   "version": "3.9.11"
  }
 },
 "nbformat": 4,
 "nbformat_minor": 5
}
